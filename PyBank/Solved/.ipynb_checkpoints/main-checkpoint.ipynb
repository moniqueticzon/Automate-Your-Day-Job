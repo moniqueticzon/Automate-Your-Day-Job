{
 "cells": [
  {
   "cell_type": "code",
   "execution_count": 5,
   "metadata": {},
   "outputs": [
    {
     "name": "stdout",
     "output_type": "stream",
     "text": [
      "0 0\n"
     ]
    }
   ],
   "source": [
    "from pathlib import Path\n",
    "import csv\n",
    "from datetime import datetime\n",
    "\n",
    "csvpath = Path('../Resource_Data/budget_data.csv')\n",
    "\n",
    "file = open(csvpath, newline='')\n",
    "reader = csv.reader(file)\n",
    "\n",
    "header = next(reader)\n",
    "\n",
    "data = []\n",
    "\n",
    "greatest_increase = 0\n",
    "greatest_decrease = 0\n",
    "avg_change = 0\n",
    "total_change = 0\n",
    "count_change = 0\n",
    "total_profit = 0\n",
    "month_count = 0\n",
    "\n",
    "for row in reader:\n",
    "    # row = [Date, Profit/Losses]\n",
    "    date = row[0]\n",
    "    profit1 = int(row[1])\n",
    "    \n",
    "    data.append([date, profit1])\n",
    "    \n",
    "    total_profit += profit1\n",
    "    month_count = len(data)\n",
    "\n",
    "output_path = Path(\"output_main.csv\")\n",
    "file = open(output_path, 'w')\n",
    "writer = csv.writer(file)\n",
    "writer.writerow([\"Date\", \"Change\"])\n",
    "\n",
    "for i in range(len(data)-1):\n",
    "    current_month_row = data[i+1]\n",
    "    current_month_date = current_month_row[0]\n",
    "    current_month_profit = current_month_row[-1]\n",
    "    last_month_row = data[i]\n",
    "    last_month_profit = last_month_row[-1]\n",
    "    \n",
    "    monthly_change = (current_month_profit - last_month_profit)\n",
    "    \n",
    "    total_change += monthly_change\n",
    "    count_change += 1\n",
    "    \n",
    "    writer.writerow([current_month_date, monthly_change])\n",
    "\n",
    "avg_change = round(total_change / count_change, 2)\n",
    "\n",
    "print(greatest_increase, greatest_decrease)\n",
    "\n",
    "output = Path(\"output_main.txt\")\n",
    "\n",
    "with open(output, 'w') as file:\n",
    "    file.write(\"Financial Analysis\\n\")\n",
    "    file.write(\"-------------------------------\\n\")\n",
    "    file.write(f\"Total months: {month_count}\\n\")\n",
    "    file.write(f\"Total profit: ${total_profit}\\n\")\n",
    "    file.write(f\"Average Change: ${avg_change}\\n\")\n",
    "    file.write(f\"Greatest Increase in Profits: ${greatest_increase}\\n\")\n",
    "    file.write(f\"Greatest Decrease in Profits: ${greatest_decrease}\\n\")"
   ]
  },
  {
   "cell_type": "code",
   "execution_count": null,
   "metadata": {},
   "outputs": [],
   "source": []
  }
 ],
 "metadata": {
  "kernelspec": {
   "display_name": "Python 3",
   "language": "python",
   "name": "python3"
  },
  "language_info": {
   "codemirror_mode": {
    "name": "ipython",
    "version": 3
   },
   "file_extension": ".py",
   "mimetype": "text/x-python",
   "name": "python",
   "nbconvert_exporter": "python",
   "pygments_lexer": "ipython3",
   "version": "3.7.7"
  }
 },
 "nbformat": 4,
 "nbformat_minor": 4
}
