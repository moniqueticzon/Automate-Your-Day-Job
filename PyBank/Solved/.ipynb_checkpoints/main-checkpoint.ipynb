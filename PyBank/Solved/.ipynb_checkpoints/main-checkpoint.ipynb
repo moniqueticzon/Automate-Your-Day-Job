{
 "cells": [
  {
   "cell_type": "code",
   "execution_count": 1,
   "metadata": {},
   "outputs": [],
   "source": [
    "from pathlib import Path\n",
    "import csv"
   ]
  },
  {
   "cell_type": "code",
   "execution_count": 2,
   "metadata": {},
   "outputs": [],
   "source": [
    "csvpath = Path('../Resource_data/budget_data.csv')"
   ]
  },
  {
   "cell_type": "code",
   "execution_count": 3,
   "metadata": {},
   "outputs": [
    {
     "name": "stdout",
     "output_type": "stream",
     "text": [
      "{'Jan-2010': '867884', 'Feb-2010': '984655', 'Mar-2010': '322013', 'Apr-2010': '-69417', 'May-2010': '310503', 'Jun-2010': '522857', 'Jul-2010': '1033096', 'Aug-2010': '604885', 'Sep-2010': '-216386', 'Oct-2010': '477532', 'Nov-2010': '893810', 'Dec-2010': '-80353', 'Jan-2011': '779806', 'Feb-2011': '-335203', 'Mar-2011': '697845', 'Apr-2011': '793163', 'May-2011': '485070', 'Jun-2011': '584122', 'Jul-2011': '62729', 'Aug-2011': '668179', 'Sep-2011': '899906', 'Oct-2011': '834719', 'Nov-2011': '132003', 'Dec-2011': '309978', 'Jan-2012': '-755566', 'Feb-2012': '1170593', 'Mar-2012': '252788', 'Apr-2012': '1151518', 'May-2012': '817256', 'Jun-2012': '570757', 'Jul-2012': '506702', 'Aug-2012': '-1022534', 'Sep-2012': '475062', 'Oct-2012': '779976', 'Nov-2012': '144175', 'Dec-2012': '542494', 'Jan-2013': '359333', 'Feb-2013': '321469', 'Mar-2013': '67780', 'Apr-2013': '471435', 'May-2013': '565603', 'Jun-2013': '872480', 'Jul-2013': '789480', 'Aug-2013': '999942', 'Sep-2013': '-1196225', 'Oct-2013': '268997', 'Nov-2013': '-687986', 'Dec-2013': '1150461', 'Jan-2014': '682458', 'Feb-2014': '617856', 'Mar-2014': '824098', 'Apr-2014': '581943', 'May-2014': '132864', 'Jun-2014': '448062', 'Jul-2014': '689161', 'Aug-2014': '800701', 'Sep-2014': '1166643', 'Oct-2014': '947333', 'Nov-2014': '578668', 'Dec-2014': '988505', 'Jan-2015': '1139715', 'Feb-2015': '1029471', 'Mar-2015': '687533', 'Apr-2015': '-524626', 'May-2015': '158620', 'Jun-2015': '87795', 'Jul-2015': '423389', 'Aug-2015': '840723', 'Sep-2015': '568529', 'Oct-2015': '332067', 'Nov-2015': '989499', 'Dec-2015': '778237', 'Jan-2016': '650000', 'Feb-2016': '-1100387', 'Mar-2016': '-174946', 'Apr-2016': '757143', 'May-2016': '445709', 'Jun-2016': '712961', 'Jul-2016': '-1163797', 'Aug-2016': '569899', 'Sep-2016': '768450', 'Oct-2016': '102685', 'Nov-2016': '795914', 'Dec-2016': '60988', 'Jan-2017': '138230', 'Feb-2017': '671099'}\n"
     ]
    }
   ],
   "source": [
    "with open(csvpath) as f:\n",
    "    next(f, None)\n",
    "    data = dict(filter(None, csv.reader(f)))\n",
    "\n",
    "print(data)"
   ]
  },
  {
   "cell_type": "code",
   "execution_count": 7,
   "metadata": {},
   "outputs": [
    {
     "name": "stdout",
     "output_type": "stream",
     "text": [
      "Date: Jan-2010 | Profit/Loss: 867884\n",
      "Date: Feb-2010 | Profit/Loss: 984655\n",
      "Date: Mar-2010 | Profit/Loss: 322013\n",
      "Date: Apr-2010 | Profit/Loss: -69417\n",
      "Date: May-2010 | Profit/Loss: 310503\n",
      "Date: Jun-2010 | Profit/Loss: 522857\n",
      "Date: Jul-2010 | Profit/Loss: 1033096\n",
      "Date: Aug-2010 | Profit/Loss: 604885\n",
      "Date: Sep-2010 | Profit/Loss: -216386\n",
      "Date: Oct-2010 | Profit/Loss: 477532\n",
      "Date: Nov-2010 | Profit/Loss: 893810\n",
      "Date: Dec-2010 | Profit/Loss: -80353\n",
      "Date: Jan-2011 | Profit/Loss: 779806\n",
      "Date: Feb-2011 | Profit/Loss: -335203\n",
      "Date: Mar-2011 | Profit/Loss: 697845\n",
      "Date: Apr-2011 | Profit/Loss: 793163\n",
      "Date: May-2011 | Profit/Loss: 485070\n",
      "Date: Jun-2011 | Profit/Loss: 584122\n",
      "Date: Jul-2011 | Profit/Loss: 62729\n",
      "Date: Aug-2011 | Profit/Loss: 668179\n",
      "Date: Sep-2011 | Profit/Loss: 899906\n",
      "Date: Oct-2011 | Profit/Loss: 834719\n",
      "Date: Nov-2011 | Profit/Loss: 132003\n",
      "Date: Dec-2011 | Profit/Loss: 309978\n",
      "Date: Jan-2012 | Profit/Loss: -755566\n",
      "Date: Feb-2012 | Profit/Loss: 1170593\n",
      "Date: Mar-2012 | Profit/Loss: 252788\n",
      "Date: Apr-2012 | Profit/Loss: 1151518\n",
      "Date: May-2012 | Profit/Loss: 817256\n",
      "Date: Jun-2012 | Profit/Loss: 570757\n",
      "Date: Jul-2012 | Profit/Loss: 506702\n",
      "Date: Aug-2012 | Profit/Loss: -1022534\n",
      "Date: Sep-2012 | Profit/Loss: 475062\n",
      "Date: Oct-2012 | Profit/Loss: 779976\n",
      "Date: Nov-2012 | Profit/Loss: 144175\n",
      "Date: Dec-2012 | Profit/Loss: 542494\n",
      "Date: Jan-2013 | Profit/Loss: 359333\n",
      "Date: Feb-2013 | Profit/Loss: 321469\n",
      "Date: Mar-2013 | Profit/Loss: 67780\n",
      "Date: Apr-2013 | Profit/Loss: 471435\n",
      "Date: May-2013 | Profit/Loss: 565603\n",
      "Date: Jun-2013 | Profit/Loss: 872480\n",
      "Date: Jul-2013 | Profit/Loss: 789480\n",
      "Date: Aug-2013 | Profit/Loss: 999942\n",
      "Date: Sep-2013 | Profit/Loss: -1196225\n",
      "Date: Oct-2013 | Profit/Loss: 268997\n",
      "Date: Nov-2013 | Profit/Loss: -687986\n",
      "Date: Dec-2013 | Profit/Loss: 1150461\n",
      "Date: Jan-2014 | Profit/Loss: 682458\n",
      "Date: Feb-2014 | Profit/Loss: 617856\n",
      "Date: Mar-2014 | Profit/Loss: 824098\n",
      "Date: Apr-2014 | Profit/Loss: 581943\n",
      "Date: May-2014 | Profit/Loss: 132864\n",
      "Date: Jun-2014 | Profit/Loss: 448062\n",
      "Date: Jul-2014 | Profit/Loss: 689161\n",
      "Date: Aug-2014 | Profit/Loss: 800701\n",
      "Date: Sep-2014 | Profit/Loss: 1166643\n",
      "Date: Oct-2014 | Profit/Loss: 947333\n",
      "Date: Nov-2014 | Profit/Loss: 578668\n",
      "Date: Dec-2014 | Profit/Loss: 988505\n",
      "Date: Jan-2015 | Profit/Loss: 1139715\n",
      "Date: Feb-2015 | Profit/Loss: 1029471\n",
      "Date: Mar-2015 | Profit/Loss: 687533\n",
      "Date: Apr-2015 | Profit/Loss: -524626\n",
      "Date: May-2015 | Profit/Loss: 158620\n",
      "Date: Jun-2015 | Profit/Loss: 87795\n",
      "Date: Jul-2015 | Profit/Loss: 423389\n",
      "Date: Aug-2015 | Profit/Loss: 840723\n",
      "Date: Sep-2015 | Profit/Loss: 568529\n",
      "Date: Oct-2015 | Profit/Loss: 332067\n",
      "Date: Nov-2015 | Profit/Loss: 989499\n",
      "Date: Dec-2015 | Profit/Loss: 778237\n",
      "Date: Jan-2016 | Profit/Loss: 650000\n",
      "Date: Feb-2016 | Profit/Loss: -1100387\n",
      "Date: Mar-2016 | Profit/Loss: -174946\n",
      "Date: Apr-2016 | Profit/Loss: 757143\n",
      "Date: May-2016 | Profit/Loss: 445709\n",
      "Date: Jun-2016 | Profit/Loss: 712961\n",
      "Date: Jul-2016 | Profit/Loss: -1163797\n",
      "Date: Aug-2016 | Profit/Loss: 569899\n",
      "Date: Sep-2016 | Profit/Loss: 768450\n",
      "Date: Oct-2016 | Profit/Loss: 102685\n",
      "Date: Nov-2016 | Profit/Loss: 795914\n",
      "Date: Dec-2016 | Profit/Loss: 60988\n",
      "Date: Jan-2017 | Profit/Loss: 138230\n",
      "Date: Feb-2017 | Profit/Loss: 671099\n"
     ]
    }
   ],
   "source": [
    "month_count = 0\n",
    "total_money = 0\n",
    "average_change = 0\n",
    "greatest_increase = 0\n",
    "greatest_decrease = 0\n",
    "\n",
    "for date, money in data.items():\n",
    "    print(f\"Date: {date} | Profit/Loss: {money}\")\n",
    "\n",
    "    month_count += 1\n",
    "    total_money += int(money)"
   ]
  },
  {
   "cell_type": "code",
   "execution_count": 5,
   "metadata": {},
   "outputs": [
    {
     "name": "stdout",
     "output_type": "stream",
     "text": [
      "Financial Analysis\n",
      "-------------------------------\n",
      "Total months: 86\n",
      "Total profit: $38382578\n",
      "Average Change: $0\n",
      "Greatest Increase in Profits: \n",
      "Greate Decrease in Profits: \n"
     ]
    }
   ],
   "source": [
    "print(\"Financial Analysis\")\n",
    "print(\"-------------------------------\")\n",
    "print(f\"Total months: {month_count}\")\n",
    "print(f\"Total profit: ${total_money}\")\n",
    "print(f\"Average Change: ${average_change}\")\n",
    "print(f\"Greatest Increase in Profits: \")\n",
    "print(f\"Greate Decrease in Profits: \")"
   ]
  },
  {
   "cell_type": "code",
   "execution_count": null,
   "metadata": {},
   "outputs": [],
   "source": []
  }
 ],
 "metadata": {
  "kernelspec": {
   "display_name": "Python 3",
   "language": "python",
   "name": "python3"
  },
  "language_info": {
   "codemirror_mode": {
    "name": "ipython",
    "version": 3
   },
   "file_extension": ".py",
   "mimetype": "text/x-python",
   "name": "python",
   "nbconvert_exporter": "python",
   "pygments_lexer": "ipython3",
   "version": "3.7.7"
  }
 },
 "nbformat": 4,
 "nbformat_minor": 4
}
